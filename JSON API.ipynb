{
 "cells": [
  {
   "cell_type": "markdown",
   "id": "cd63da4f",
   "metadata": {},
   "source": [
    "## JSON API"
   ]
  },
  {
   "cell_type": "markdown",
   "id": "a1795658",
   "metadata": {},
   "source": [
    "The program will prompt for a location, contact a web service and retrieve JSON for the web service and parse that data, and retrieve the first place_id from the JSON. A place ID is a textual identifier that uniquely identifies a place as within Google Maps."
   ]
  },
  {
   "cell_type": "code",
   "execution_count": 1,
   "id": "33c79c33",
   "metadata": {},
   "outputs": [],
   "source": [
    "# Import Libraries\n",
    "import urllib.request, urllib.parse, urllib.error\n",
    "import json\n",
    "import ssl\n",
    "\n",
    "# Ignore SSL/https certificate errors\n",
    "ctx = ssl.create_default_context()\n",
    "ctx.check_hostname = False\n",
    "ctx.verify_mode = ssl.CERT_NONE\n",
    "\n",
    "service_url = \"http://py4e-data.dr-chuck.net/json?\""
   ]
  },
  {
   "cell_type": "markdown",
   "id": "e68736a3",
   "metadata": {},
   "source": [
    "We will try \"South Federal University\" which will have a place_id of \"ChIJNeHD4p-540AR2Q0_ZjwmKJ8\", before finding \"EM Lyon\"'s place_id."
   ]
  },
  {
   "cell_type": "code",
   "execution_count": 2,
   "id": "d0669187",
   "metadata": {},
   "outputs": [
    {
     "name": "stdout",
     "output_type": "stream",
     "text": [
      "Enter location: South Federal University\n",
      "Retrieving http://py4e-data.dr-chuck.net/json?address=South+Federal+University&key=42\n",
      "Retrieved 2443 characters\n",
      "place_id: ChIJNeHD4p-540AR2Q0_ZjwmKJ8\n",
      "Enter location: EM Lyon\n",
      "Retrieving http://py4e-data.dr-chuck.net/json?address=EM+Lyon&key=42\n",
      "Retrieved 2143 characters\n",
      "place_id: ChIJM58q-cHs9EcRTAlpCvXs1xk\n",
      "Enter location: \n"
     ]
    }
   ],
   "source": [
    "# Loop to go through different addresses\n",
    "while True:\n",
    "    address = input(\"Enter location: \")\n",
    "    # If you hit enter, it breaks the loop and ends the program\n",
    "    if len(address) < 1:\n",
    "        break\n",
    "    # Takes adress and adds it to service_url encoded for a web address\n",
    "    # ie address:Ann Arbor, Michigan becomes address=Ann+Arbor%+MI or something like that\n",
    "    url = service_url + urllib.parse.urlencode({'address':address,'key':42})\n",
    "    # prints url, so I can click on it and check\n",
    "    print(\"Retrieving\", url)\n",
    "    \n",
    "    # Opens the url\n",
    "    html = urllib.request.urlopen(url)\n",
    "    # Reads the url, decoding it from UTF-8 turning it into unicode\n",
    "    data = html.read().decode()\n",
    "    # Shows the length of the document we've loaded\n",
    "    print(\"Retrieved\", len(data), \"characters\")\n",
    "    \n",
    "    # Parses json and converts it into a python dictionary\n",
    "    js = json.loads(data)\n",
    "    # Finds place_id, what we are looking for\n",
    "    print(\"place_id:\", js['results'][0]['place_id'])"
   ]
  }
 ],
 "metadata": {
  "kernelspec": {
   "display_name": "Python 3 (ipykernel)",
   "language": "python",
   "name": "python3"
  },
  "language_info": {
   "codemirror_mode": {
    "name": "ipython",
    "version": 3
   },
   "file_extension": ".py",
   "mimetype": "text/x-python",
   "name": "python",
   "nbconvert_exporter": "python",
   "pygments_lexer": "ipython3",
   "version": "3.9.7"
  }
 },
 "nbformat": 4,
 "nbformat_minor": 5
}
