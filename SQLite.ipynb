{
 "cells": [
  {
   "cell_type": "markdown",
   "id": "4ee6ec7e",
   "metadata": {},
   "source": [
    "## SQLite\n",
    "This application will read the mailbox data (mbox.txt) and count the number of email messages per organization (i.e. domain name of the email address) using a database with the following schema to maintain the counts. The data is https://www.py4e.com/code3/mbox.txt?PHPSESSID=093cf2ccc1ae79f0a7cbc2546f06bf36 which I will download as mbox.txt to use locally."
   ]
  },
  {
   "cell_type": "code",
   "execution_count": 1,
   "id": "82c1fa79",
   "metadata": {},
   "outputs": [
    {
     "data": {
      "text/plain": [
       "<sqlite3.Cursor at 0x2452886cc70>"
      ]
     },
     "execution_count": 1,
     "metadata": {},
     "output_type": "execute_result"
    }
   ],
   "source": [
    "import sqlite3\n",
    "conn = sqlite3.connect('emaildb.sqlite')\n",
    "cur = conn.cursor()\n",
    "# Drops a table titled 'Counts' if exists\n",
    "cur.execute('DROP TABLE IF EXISTS Counts')\n",
    "# Create a table titled 'Counts', where there are two columns, 'email' and 'count'\n",
    "cur.execute('CREATE TABLE Counts (org TEXT, count INTEGER)')"
   ]
  },
  {
   "cell_type": "code",
   "execution_count": 2,
   "id": "28011b4d",
   "metadata": {},
   "outputs": [],
   "source": [
    "# Opens the mbox.txt file, which we will read line by line\n",
    "fh = open('mbox.txt')\n",
    "for line in fh:\n",
    "    # Sorts through each line and finds lines with emails in them, selecting the organization the emails use\n",
    "    if not line.startswith('From: '): continue\n",
    "    org = line.split()[1].split('@')[1]\n",
    "    # Looks through database and returns table with email (from above) and count\n",
    "    cur.execute('SELECT count FROM Counts WHERE org = ? ', (org,))\n",
    "    # Fetches table of the email, which is a row. The row/table will either already contain an email and count, or be empty\n",
    "    # because it is the first instance of the email.\n",
    "    row = cur.fetchone()\n",
    "    if row is None:\n",
    "        cur.execute('''INSERT INTO Counts (org, count)\n",
    "                VALUES (?, 1)''', (org,))\n",
    "    else:\n",
    "        cur.execute('UPDATE Counts SET count = count + 1 WHERE org = ?',\n",
    "                    (org,))\n",
    "# Commits changes we made to table\n",
    "conn.commit()"
   ]
  },
  {
   "cell_type": "markdown",
   "id": "6e976257",
   "metadata": {},
   "source": [
    "It worked! Using DB Browser for SQLite, iupui.edu led with a count of 536. umich.edu came in second with a count of 491."
   ]
  }
 ],
 "metadata": {
  "kernelspec": {
   "display_name": "Python 3 (ipykernel)",
   "language": "python",
   "name": "python3"
  },
  "language_info": {
   "codemirror_mode": {
    "name": "ipython",
    "version": 3
   },
   "file_extension": ".py",
   "mimetype": "text/x-python",
   "name": "python",
   "nbconvert_exporter": "python",
   "pygments_lexer": "ipython3",
   "version": "3.9.7"
  }
 },
 "nbformat": 4,
 "nbformat_minor": 5
}
