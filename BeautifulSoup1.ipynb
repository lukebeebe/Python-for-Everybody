{
 "cells": [
  {
   "cell_type": "markdown",
   "id": "03c1a819",
   "metadata": {},
   "source": [
    "## Beautiful Soup\n",
    "First, we will import our libraries and save our urls to variables. We were given sample data that is to sum up to 2553 and acual data whose sum is to end with 84. <br>\n",
    "We also are entering some code to take care of SSL certificate errors for https:// websites as good practice."
   ]
  },
  {
   "cell_type": "code",
   "execution_count": 1,
   "id": "9863db80",
   "metadata": {},
   "outputs": [],
   "source": [
    "import urllib.request, urllib.parse, urllib.error\n",
    "from bs4 import BeautifulSoup\n",
    "import re\n",
    "import ssl\n",
    "sample_url = \"http://py4e-data.dr-chuck.net/comments_42.html\"\n",
    "actual_url = \"http://py4e-data.dr-chuck.net/comments_1521341.html\"\n",
    "ctx = ssl.create_default_context()\n",
    "ctx.check_hostname = False\n",
    "ctx.verify_mode = ssl.CERT_NONE"
   ]
  },
  {
   "cell_type": "markdown",
   "id": "5cd38888",
   "metadata": {},
   "source": [
    "## Sample Data\n"
   ]
  },
  {
   "cell_type": "code",
   "execution_count": 2,
   "id": "eecc8dcf",
   "metadata": {},
   "outputs": [],
   "source": [
    "# Open website as if a file\n",
    "html = urllib.request.urlopen(sample_url, context = ctx).read()\n",
    "# Create soup, parse through and make sense of website\n",
    "soup = BeautifulSoup(html, \"html.parser\")\n",
    "# Retrieve all of the span tags\n",
    "tags = soup('span')"
   ]
  },
  {
   "cell_type": "markdown",
   "id": "4f7e0c5d",
   "metadata": {},
   "source": [
    "I've already inspected the website by viewing the page source, that's how I parsed 'span'. Let's see what the tags that've been parsed look like."
   ]
  },
  {
   "cell_type": "code",
   "execution_count": 3,
   "id": "bd3e3943",
   "metadata": {},
   "outputs": [
    {
     "name": "stdout",
     "output_type": "stream",
     "text": [
      "<span class=\"comments\">97</span>\n",
      "<span class=\"comments\">97</span>\n",
      "<span class=\"comments\">90</span>\n",
      "<span class=\"comments\">90</span>\n",
      "<span class=\"comments\">88</span>\n",
      "<span class=\"comments\">87</span>\n",
      "<span class=\"comments\">87</span>\n",
      "<span class=\"comments\">80</span>\n",
      "<span class=\"comments\">79</span>\n",
      "<span class=\"comments\">79</span>\n"
     ]
    }
   ],
   "source": [
    "count = 0\n",
    "for tag in tags:\n",
    "    print(tag)\n",
    "    count += 1\n",
    "    if count >= 10:\n",
    "        break"
   ]
  },
  {
   "cell_type": "markdown",
   "id": "695fe644",
   "metadata": {},
   "source": [
    "Perfect, we're looking to seperate the number that follows \"comments\">. Luckily, it's the only number from what we parsed, making it easy to seperate. We'll use the regular expression library to seperate it."
   ]
  },
  {
   "cell_type": "code",
   "execution_count": 4,
   "id": "ed95881d",
   "metadata": {},
   "outputs": [
    {
     "name": "stdout",
     "output_type": "stream",
     "text": [
      "2553\n"
     ]
    }
   ],
   "source": [
    "nums1 = list()\n",
    "for tag in tags:\n",
    "    # convert soup to string\n",
    "    y=str(tag)\n",
    "    # seperate number from string\n",
    "    x=re.findall('[0-9]+', y)\n",
    "    # change string to int and add it to list of all numbers\n",
    "    nums1.append(int(x[0]))\n",
    "print(sum(nums1))"
   ]
  },
  {
   "cell_type": "markdown",
   "id": "46ed65dc",
   "metadata": {},
   "source": [
    "## Actual Data\n",
    "Now, it's time to work with the actual data. We will use the same process."
   ]
  },
  {
   "cell_type": "code",
   "execution_count": 5,
   "id": "42ca5a95",
   "metadata": {
    "scrolled": true
   },
   "outputs": [
    {
     "name": "stdout",
     "output_type": "stream",
     "text": [
      "2884\n"
     ]
    }
   ],
   "source": [
    "html = urllib.request.urlopen(actual_url, context = ctx).read()\n",
    "soup = BeautifulSoup(html, \"html.parser\")\n",
    "tags = soup('span')\n",
    "nums2 = list()\n",
    "for tag in tags:\n",
    "    y = str(tag)\n",
    "    x = re.findall('[0-9]+', y)\n",
    "    nums2.append(int(x[0]))\n",
    "print(sum(nums2))"
   ]
  },
  {
   "cell_type": "markdown",
   "id": "f7d9a6ce",
   "metadata": {},
   "source": [
    "Looks good!"
   ]
  }
 ],
 "metadata": {
  "kernelspec": {
   "display_name": "Python 3 (ipykernel)",
   "language": "python",
   "name": "python3"
  },
  "language_info": {
   "codemirror_mode": {
    "name": "ipython",
    "version": 3
   },
   "file_extension": ".py",
   "mimetype": "text/x-python",
   "name": "python",
   "nbconvert_exporter": "python",
   "pygments_lexer": "ipython3",
   "version": "3.9.7"
  }
 },
 "nbformat": 4,
 "nbformat_minor": 5
}
