{
 "cells": [
  {
   "cell_type": "markdown",
   "id": "d0540581",
   "metadata": {},
   "source": [
    "## Beautiful Soup 2\n",
    "Given a sample website, http://py4e-data.dr-chuck.net/known_by_Fikret.html, we are to create a program that opens it up and clicks on the link/name that we choose. We will continue to do that for the amount of times we choose, printing the url we're on to check what name we're on. We are given the sample answer already, to check if our program has worked."
   ]
  },
  {
   "cell_type": "code",
   "execution_count": 1,
   "id": "20dbb8a7",
   "metadata": {},
   "outputs": [],
   "source": [
    "import urllib.request, urllib.parse, urllib.error\n",
    "from bs4 import BeautifulSoup\n",
    "import re\n",
    "import ssl\n",
    "\n",
    "sample_url = 'http://py4e-data.dr-chuck.net/known_by_Fikret.html'\n",
    "actual_url = 'http://py4e-data.dr-chuck.net/known_by_Suzi.html'\n",
    "\n",
    "ctx = ssl.create_default_context()\n",
    "ctx.check_hostname = False\n",
    "ctx.verify_mode = ssl.CERT_NONE"
   ]
  },
  {
   "cell_type": "markdown",
   "id": "ed345760",
   "metadata": {},
   "source": [
    "## Sample Data\n",
    "Sequence of names output: Fikret, Montgomery, Mhairade, Butchi, Anayah. This first box asks for the parameters of what we're looking for."
   ]
  },
  {
   "cell_type": "code",
   "execution_count": 2,
   "id": "b84efe65",
   "metadata": {},
   "outputs": [
    {
     "name": "stdout",
     "output_type": "stream",
     "text": [
      "Which url would you like to use? s/a s\n",
      "What position link would you like to enter? 3\n",
      "How many times would you like to repeat? 4\n"
     ]
    }
   ],
   "source": [
    "# Inputs of information\n",
    "data = input(\"Which url would you like to use? s/a \")\n",
    "position = int(input(\"What position link would you like to enter? \"))\n",
    "count = int(input(\"How many times would you like to repeat? \"))\n",
    "if data=='s' or data=='S':\n",
    "    url=sample_url\n",
    "else:\n",
    "    url=actual_url"
   ]
  },
  {
   "cell_type": "code",
   "execution_count": 3,
   "id": "e4d9221e",
   "metadata": {},
   "outputs": [
    {
     "name": "stdout",
     "output_type": "stream",
     "text": [
      "Starting:   http://py4e-data.dr-chuck.net/known_by_Fikret.html\n",
      "Retrieving: http://py4e-data.dr-chuck.net/known_by_Montgomery.html\n",
      "Retrieving: http://py4e-data.dr-chuck.net/known_by_Mhairade.html\n",
      "Retrieving: http://py4e-data.dr-chuck.net/known_by_Butchi.html\n",
      "Retrieving: http://py4e-data.dr-chuck.net/known_by_Anayah.html\n"
     ]
    }
   ],
   "source": [
    "# First count starts at item 1\n",
    "c1=1\n",
    "print(\"Starting:  \", url)\n",
    "while c1 <= count:\n",
    "    # Open website as if a file\n",
    "    html = urllib.request.urlopen(url, context = ctx).read()\n",
    "    # Create soup, to parse through html\n",
    "    soup = BeautifulSoup(html, \"html.parser\")\n",
    "    # Retrieve all of the anchor tags\n",
    "    tags = soup(\"a\")\n",
    "    # For loop that counts from 1 to the position. It saves the website at that position to 'url' & breaks loop\n",
    "    c2=1\n",
    "    for tag in tags:\n",
    "        if c2 == position:\n",
    "            url = str(tag.get('href', None))\n",
    "            break\n",
    "        c2+=1\n",
    "        \n",
    "    # Prints website that matches position after loop is broken\n",
    "    print(\"Retrieving:\", url)\n",
    "    c1+=1"
   ]
  },
  {
   "cell_type": "markdown",
   "id": "3ca1690d",
   "metadata": {},
   "source": [
    "It works! We'll use this for the actual data. We should get the last name to start with an N."
   ]
  },
  {
   "cell_type": "code",
   "execution_count": 4,
   "id": "736b0339",
   "metadata": {},
   "outputs": [
    {
     "name": "stdout",
     "output_type": "stream",
     "text": [
      "Which url would you like to use? s/a a\n",
      "What position link would you like to enter? 18\n",
      "How many times would you like to repeat? 7\n",
      "Starting:   http://py4e-data.dr-chuck.net/known_by_Suzi.html\n",
      "Retrieving: http://py4e-data.dr-chuck.net/known_by_Kaan.html\n",
      "Retrieving: http://py4e-data.dr-chuck.net/known_by_Miya.html\n",
      "Retrieving: http://py4e-data.dr-chuck.net/known_by_Blake.html\n",
      "Retrieving: http://py4e-data.dr-chuck.net/known_by_Nickson.html\n",
      "Retrieving: http://py4e-data.dr-chuck.net/known_by_Bryony.html\n",
      "Retrieving: http://py4e-data.dr-chuck.net/known_by_Grainne.html\n",
      "Retrieving: http://py4e-data.dr-chuck.net/known_by_Nikos.html\n"
     ]
    }
   ],
   "source": [
    "data = input(\"Which url would you like to use? s/a \")\n",
    "position = int(input(\"What position link would you like to enter? \"))\n",
    "count = int(input(\"How many times would you like to repeat? \"))\n",
    "if data=='s' or data=='S':\n",
    "    url=sample_url\n",
    "else:\n",
    "    url=actual_url\n",
    "c1=1\n",
    "print(\"Starting:  \", url)\n",
    "while c1 <= count:\n",
    "    html = urllib.request.urlopen(url, context = ctx).read()\n",
    "    soup = BeautifulSoup(html, \"html.parser\")\n",
    "    tags = soup(\"a\")\n",
    "    c2=1\n",
    "    for tag in tags:\n",
    "        if c2 == position:\n",
    "            url = str(tag.get('href', None))\n",
    "            break\n",
    "        c2+=1\n",
    "    print(\"Retrieving:\", url)\n",
    "    c1+=1"
   ]
  },
  {
   "cell_type": "markdown",
   "id": "0a935fc6",
   "metadata": {},
   "source": [
    "Nice Job! Next time I'll have to make the program into a def, so I can reuse it and just change the parameters. It'd clean up the code a lot."
   ]
  }
 ],
 "metadata": {
  "kernelspec": {
   "display_name": "Python 3 (ipykernel)",
   "language": "python",
   "name": "python3"
  },
  "language_info": {
   "codemirror_mode": {
    "name": "ipython",
    "version": 3
   },
   "file_extension": ".py",
   "mimetype": "text/x-python",
   "name": "python",
   "nbconvert_exporter": "python",
   "pygments_lexer": "ipython3",
   "version": "3.9.7"
  }
 },
 "nbformat": 4,
 "nbformat_minor": 5
}
