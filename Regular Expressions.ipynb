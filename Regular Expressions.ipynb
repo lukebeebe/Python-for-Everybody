{
 "cells": [
  {
   "cell_type": "markdown",
   "id": "15454d0b",
   "metadata": {},
   "source": [
    "## Regular Expressions\n",
    "We are to open a file and add all the numbers on the file using Regular Expressions. We know the sample file adds up to 445,833. We also know the actual file total sum ends with 935.\n",
    "<br>\n",
    "First, we will save the filenames as strings and start with the sample file, opening it as our handle."
   ]
  },
  {
   "cell_type": "code",
   "execution_count": 1,
   "id": "1c842c5d",
   "metadata": {},
   "outputs": [],
   "source": [
    "import re\n",
    "\n",
    "sample = \"regex_sum_42.txt\"\n",
    "actual = \"regex_sum_1521339.txt\"\n",
    "\n",
    "handle = open(sample)"
   ]
  },
  {
   "cell_type": "code",
   "execution_count": 2,
   "id": "fd54dd2d",
   "metadata": {},
   "outputs": [
    {
     "name": "stdout",
     "output_type": "stream",
     "text": [
      "445833\n"
     ]
    }
   ],
   "source": [
    "sample_numlist = list()\n",
    "\n",
    "# Loop through each line in .txt file\n",
    "for line in handle:\n",
    "    # Create list of nums in each line\n",
    "    nums = re.findall('[0-9]+', line.strip())\n",
    "    # Loop through list of nums and turn them to integers, append them to larger list of ints\n",
    "    for num in nums:\n",
    "        sample_numlist.append(int(num))\n",
    "        \n",
    "# Prints out the sum of the larger num list of integers\n",
    "print(sum(sample_numlist))"
   ]
  },
  {
   "cell_type": "markdown",
   "id": "cf02ccf4",
   "metadata": {},
   "source": [
    "## It worked!\n",
    "Now, we will repeat this process for the actual file."
   ]
  },
  {
   "cell_type": "code",
   "execution_count": 3,
   "id": "15758f80",
   "metadata": {},
   "outputs": [
    {
     "name": "stdout",
     "output_type": "stream",
     "text": [
      "332935\n"
     ]
    }
   ],
   "source": [
    "handle = open(actual)\n",
    "actual_numlist = list()\n",
    "\n",
    "for line in handle:\n",
    "    nums = re.findall('[0-9]+', line.strip())\n",
    "    for num in nums:\n",
    "        actual_numlist.append(int(num))\n",
    "        \n",
    "print(sum(actual_numlist))"
   ]
  }
 ],
 "metadata": {
  "kernelspec": {
   "display_name": "Python 3 (ipykernel)",
   "language": "python",
   "name": "python3"
  },
  "language_info": {
   "codemirror_mode": {
    "name": "ipython",
    "version": 3
   },
   "file_extension": ".py",
   "mimetype": "text/x-python",
   "name": "python",
   "nbconvert_exporter": "python",
   "pygments_lexer": "ipython3",
   "version": "3.9.7"
  }
 },
 "nbformat": 4,
 "nbformat_minor": 5
}
